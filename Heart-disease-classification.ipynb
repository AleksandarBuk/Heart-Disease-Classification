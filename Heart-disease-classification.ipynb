{
 "cells": [
  {
   "cell_type": "markdown",
   "id": "34725c51",
   "metadata": {},
   "source": [
    "# Predicting heart disease using classification\n",
    "\n",
    "This notebook looks into using various Python-based machine learning and data science libraries in an attempt to build a machine learning moddel capable of predicting whether or not someone has heart disease based on their medical attributes.\n",
    "\n",
    "Approach:\n",
    "1. Problem definition\n",
    "2. Data\n",
    "3. Evaluation\n",
    "4. Features\n",
    "5. Modeling\n",
    "6. Experimentation"
   ]
  },
  {
   "cell_type": "markdown",
   "id": "991bcdda",
   "metadata": {},
   "source": [
    "## 1. Probelm Definitoin\n",
    "\n",
    "In a statemetnt,\n",
    "> Given clinical paramaters about a patient, can I predict whether or not they have heart disease.\n",
    "\n",
    "## 2.  Data\n",
    "\n",
    "The orignal data came from Cleveland data from UCI Machine Learning Repository: https://archive.ics.uci.edu/dataset/45/heart+disease\n",
    "\n",
    "There is also a version of it available on Kaggle.\n",
    "## 3. Evaluation\n",
    "\n",
    "> If I can reach 95% accuracy at predicting whether or not a patient has heart disease,\n",
    "during the proof of concept, I'll pursue the project.\n",
    "\n",
    "## 4. Features\n",
    "\n",
    "**Create data dictionary**\n",
    "\n",
    "* age in years\n",
    "* sex(1 = male; 0 = female)\n",
    "* cpchest pain type\n",
    "* trestbpsresting blood pressure (in mm HG on admission to the hospital)\n",
    "* cholserum cholestoral in mg/d1\n",
    "* fbs(fasting blood sugar > 120 mg/d1) (1=true; 0 = false)\n",
    "* restecgresting electrocardiographic result\n",
    "* thalachmaximum heart rate achieved\n",
    "* exangexercise induced angina ( 1 = yes; 0 = no)\n",
    "* oldpeakST depression induced by exercise relative to rest\n",
    "* slopethe slope of the peak exercise ST segment\n",
    "* canumber of major vessles(0-3) colored by floursopy\n",
    "* thal3 = normal; 6 = fixed defect; 7= reverasble defect\n",
    "* target = 1 or 0"
   ]
  },
  {
   "cell_type": "markdown",
   "id": "012994b7",
   "metadata": {},
   "source": [
    "## The necessary tools\n",
    "\n",
    "Data analysis and manipulation: pandas, Matplotlib and NumPy"
   ]
  },
  {
   "cell_type": "code",
   "execution_count": null,
   "id": "2b3b5f90",
   "metadata": {},
   "outputs": [],
   "source": [
    "# Import the tools\n",
    "\n",
    "# Regular EDA (exploratory data analysis) and plotting libraries\n",
    "\n",
    "import numpy as np\n",
    "import pandas as pd\n",
    "import matplotlib.pyplot as plt\n",
    "import seaborn as sns\n",
    "\n",
    "%matplotlib inline \n",
    "\n",
    "# Models from Scikit-Learn\n",
    "from sklearn.liner_model import LogisticRegression\n",
    "from sklearn.neighbors import KNeighborsClassifier\n",
    "from sklearn.ensemble import RandomForestClassifier\n",
    "\n",
    "# Model Evaluation\n",
    "from sklearn.model_selection import train_test_split, cross_val_score\n",
    "from sklearn.model selection import RandomizedSearchCV, GridSearchCV\n",
    "from sklearn.metrics import confusion_matrix, classification_report\n",
    "from sklearn.metrics import precision_score, recall_score, f1_score\n",
    "from sklearn.metrics import plot_roc_curve"
   ]
  },
  {
   "cell_type": "code",
   "execution_count": null,
   "id": "338ac84b",
   "metadata": {},
   "outputs": [],
   "source": []
  }
 ],
 "metadata": {
  "kernelspec": {
   "display_name": "Python 3 (ipykernel)",
   "language": "python",
   "name": "python3"
  },
  "language_info": {
   "codemirror_mode": {
    "name": "ipython",
    "version": 3
   },
   "file_extension": ".py",
   "mimetype": "text/x-python",
   "name": "python",
   "nbconvert_exporter": "python",
   "pygments_lexer": "ipython3",
   "version": "3.10.13"
  }
 },
 "nbformat": 4,
 "nbformat_minor": 5
}
